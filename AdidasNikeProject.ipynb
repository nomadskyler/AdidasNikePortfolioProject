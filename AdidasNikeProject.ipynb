{
 "cells": [
  {
   "cell_type": "markdown",
   "metadata": {},
   "source": [
    "## Adidas vs Nike Shoes"
   ]
  },
  {
   "cell_type": "markdown",
   "metadata": {},
   "source": [
    "# DEFINE"
   ]
  },
  {
   "cell_type": "markdown",
   "metadata": {},
   "source": [
    "### What brand makes the most popular shoe?"
   ]
  },
  {
   "cell_type": "code",
   "execution_count": 16,
   "metadata": {},
   "outputs": [],
   "source": [
    "#load everything we might need\n",
    "import pandas as pd\n",
    "import seaborn as sns\n",
    "import numpy as np\n",
    "import matplotlib.pyplot as plt\n",
    "\n",
    "__author__ = \"Skyler Bullard\"\n",
    "__email__ = \"skyler.bullard.r@gmail.com\""
   ]
  },
  {
   "cell_type": "code",
   "execution_count": 17,
   "metadata": {},
   "outputs": [],
   "source": [
    "#load the data\n",
    "data = pd.read_csv( 'Adidas Vs Nike.csv' )"
   ]
  },
  {
   "cell_type": "markdown",
   "metadata": {},
   "source": [
    "# DISCOVER"
   ]
  },
  {
   "cell_type": "code",
   "execution_count": 18,
   "metadata": {},
   "outputs": [],
   "source": [
    "#rename columns in dataframe\n",
    "data.rename( columns = { \"Product Name\" : \"Style\" , \"Product ID\" : \"ID\" ,\n",
    "                       \"Listing Price\" : \"ListPrice\" , \"Sale Price\" : \"SalePrice\" }\n",
    "            , inplace = True )"
   ]
  },
  {
   "cell_type": "code",
   "execution_count": 19,
   "metadata": {
    "scrolled": true
   },
   "outputs": [],
   "source": [
    "#data.head()"
   ]
  },
  {
   "cell_type": "markdown",
   "metadata": {},
   "source": [
    "### We have a 3,268 x 10 (row x column) dataframe. Define each feature"
   ]
  },
  {
   "cell_type": "markdown",
   "metadata": {},
   "source": [
    "### Style: unique description\n",
    "### ID: manufacturer product number or company SKU\n",
    "### ListPrice: how much money a retailer purchases item from vendor\n",
    "### SalePrice: how much money a retailer sells item for\n",
    "### Discount: a percentage of money removed from SalePrice\n",
    "### Brand: a type of product manfuactured by a particular company under a specific name\n",
    "### Description: content information for a product\n",
    "### Rating: a classification of the product based on a certain assessment\n",
    "### Reviews: a critical assessment of the product\n",
    "### Last Visited: date-time of most recent webpage viewing"
   ]
  },
  {
   "cell_type": "code",
   "execution_count": 20,
   "metadata": {},
   "outputs": [
    {
     "name": "stdout",
     "output_type": "stream",
     "text": [
      "<class 'pandas.core.frame.DataFrame'>\n",
      "RangeIndex: 3268 entries, 0 to 3267\n",
      "Data columns (total 10 columns):\n",
      "Style           3268 non-null object\n",
      "ID              3268 non-null object\n",
      "ListPrice       3268 non-null int64\n",
      "SalePrice       3268 non-null int64\n",
      "Discount        3268 non-null int64\n",
      "Brand           3268 non-null object\n",
      "Description     3265 non-null object\n",
      "Rating          3268 non-null float64\n",
      "Reviews         3268 non-null int64\n",
      "Last Visited    3268 non-null object\n",
      "dtypes: float64(1), int64(4), object(5)\n",
      "memory usage: 255.4+ KB\n",
      "32680\n"
     ]
    }
   ],
   "source": [
    "data.info()\n",
    "print( data.size )"
   ]
  },
  {
   "cell_type": "code",
   "execution_count": 21,
   "metadata": {
    "scrolled": true
   },
   "outputs": [
    {
     "data": {
      "text/html": [
       "<div>\n",
       "<style scoped>\n",
       "    .dataframe tbody tr th:only-of-type {\n",
       "        vertical-align: middle;\n",
       "    }\n",
       "\n",
       "    .dataframe tbody tr th {\n",
       "        vertical-align: top;\n",
       "    }\n",
       "\n",
       "    .dataframe thead th {\n",
       "        text-align: right;\n",
       "    }\n",
       "</style>\n",
       "<table border=\"1\" class=\"dataframe\">\n",
       "  <thead>\n",
       "    <tr style=\"text-align: right;\">\n",
       "      <th></th>\n",
       "      <th>ListPrice</th>\n",
       "      <th>SalePrice</th>\n",
       "      <th>Discount</th>\n",
       "      <th>Rating</th>\n",
       "      <th>Reviews</th>\n",
       "    </tr>\n",
       "  </thead>\n",
       "  <tbody>\n",
       "    <tr>\n",
       "      <th>count</th>\n",
       "      <td>3268.000000</td>\n",
       "      <td>3268.000000</td>\n",
       "      <td>3268.000000</td>\n",
       "      <td>3268.000000</td>\n",
       "      <td>3268.000000</td>\n",
       "    </tr>\n",
       "    <tr>\n",
       "      <th>mean</th>\n",
       "      <td>6868.020196</td>\n",
       "      <td>6134.265606</td>\n",
       "      <td>26.875765</td>\n",
       "      <td>3.242105</td>\n",
       "      <td>40.551714</td>\n",
       "    </tr>\n",
       "    <tr>\n",
       "      <th>std</th>\n",
       "      <td>4724.659386</td>\n",
       "      <td>4293.247581</td>\n",
       "      <td>22.633487</td>\n",
       "      <td>1.428856</td>\n",
       "      <td>31.543491</td>\n",
       "    </tr>\n",
       "    <tr>\n",
       "      <th>min</th>\n",
       "      <td>0.000000</td>\n",
       "      <td>449.000000</td>\n",
       "      <td>0.000000</td>\n",
       "      <td>0.000000</td>\n",
       "      <td>0.000000</td>\n",
       "    </tr>\n",
       "    <tr>\n",
       "      <th>25%</th>\n",
       "      <td>4299.000000</td>\n",
       "      <td>2999.000000</td>\n",
       "      <td>0.000000</td>\n",
       "      <td>2.600000</td>\n",
       "      <td>10.000000</td>\n",
       "    </tr>\n",
       "    <tr>\n",
       "      <th>50%</th>\n",
       "      <td>5999.000000</td>\n",
       "      <td>4799.000000</td>\n",
       "      <td>40.000000</td>\n",
       "      <td>3.500000</td>\n",
       "      <td>37.000000</td>\n",
       "    </tr>\n",
       "    <tr>\n",
       "      <th>75%</th>\n",
       "      <td>8999.000000</td>\n",
       "      <td>7995.000000</td>\n",
       "      <td>50.000000</td>\n",
       "      <td>4.400000</td>\n",
       "      <td>68.000000</td>\n",
       "    </tr>\n",
       "    <tr>\n",
       "      <th>max</th>\n",
       "      <td>29999.000000</td>\n",
       "      <td>36500.000000</td>\n",
       "      <td>60.000000</td>\n",
       "      <td>5.000000</td>\n",
       "      <td>223.000000</td>\n",
       "    </tr>\n",
       "  </tbody>\n",
       "</table>\n",
       "</div>"
      ],
      "text/plain": [
       "          ListPrice     SalePrice     Discount       Rating      Reviews\n",
       "count   3268.000000   3268.000000  3268.000000  3268.000000  3268.000000\n",
       "mean    6868.020196   6134.265606    26.875765     3.242105    40.551714\n",
       "std     4724.659386   4293.247581    22.633487     1.428856    31.543491\n",
       "min        0.000000    449.000000     0.000000     0.000000     0.000000\n",
       "25%     4299.000000   2999.000000     0.000000     2.600000    10.000000\n",
       "50%     5999.000000   4799.000000    40.000000     3.500000    37.000000\n",
       "75%     8999.000000   7995.000000    50.000000     4.400000    68.000000\n",
       "max    29999.000000  36500.000000    60.000000     5.000000   223.000000"
      ]
     },
     "execution_count": 21,
     "metadata": {},
     "output_type": "execute_result"
    }
   ],
   "source": [
    "#summary statistics of quantitative feature variables\n",
    "data.describe()"
   ]
  },
  {
   "cell_type": "markdown",
   "metadata": {},
   "source": [
    "## target variable"
   ]
  },
  {
   "cell_type": "markdown",
   "metadata": {},
   "source": [
    "### SalePrice is the target. Find the brand with the highest average of sales"
   ]
  },
  {
   "cell_type": "code",
   "execution_count": 22,
   "metadata": {},
   "outputs": [
    {
     "data": {
      "text/plain": [
       "count     3268.000000\n",
       "mean      6134.265606\n",
       "std       4293.247581\n",
       "min        449.000000\n",
       "25%       2999.000000\n",
       "50%       4799.000000\n",
       "75%       7995.000000\n",
       "max      36500.000000\n",
       "Name: SalePrice, dtype: float64"
      ]
     },
     "execution_count": 22,
     "metadata": {},
     "output_type": "execute_result"
    }
   ],
   "source": [
    "#summarize target variable\n",
    "data.SalePrice.describe()"
   ]
  },
  {
   "cell_type": "markdown",
   "metadata": {},
   "source": [
    "## when to use a scatterplot?"
   ]
  },
  {
   "cell_type": "markdown",
   "metadata": {},
   "source": [
    "### a scatterplot is a simple way to check for a relationship between two variables"
   ]
  },
  {
   "cell_type": "code",
   "execution_count": 23,
   "metadata": {
    "scrolled": true
   },
   "outputs": [
    {
     "data": {
      "text/plain": [
       "<matplotlib.collections.PathCollection at 0x1a02ee519e8>"
      ]
     },
     "execution_count": 23,
     "metadata": {},
     "output_type": "execute_result"
    },
    {
     "data": {
      "image/png": "[encoded data removed]",
      "text/plain": [
       "<Figure size 432x288 with 1 Axes>"
      ]
     },
     "metadata": {},
     "output_type": "display_data"
    }
   ],
   "source": [
    "x = 'SalePrice'\n",
    "y = 'Rating'\n",
    "\n",
    "plt.xlabel( x )\n",
    "plt.ylabel( y )\n",
    "plt.scatter( data[x] , data[y] )"
   ]
  },
  {
   "cell_type": "code",
   "execution_count": 24,
   "metadata": {},
   "outputs": [
    {
     "name": "stdout",
     "output_type": "stream",
     "text": [
      "                                Style          ID  ListPrice  SalePrice  \\\n",
      "3148  Nike Air VaporMax Flyknit 2 LXX  AT5673-700          0      36500   \n",
      "\n",
      "      Discount Brand                                        Description  \\\n",
      "3148         0  Nike  The Nike Air VaporMax Flyknit 2 LXX places you...   \n",
      "\n",
      "      Rating  Reviews         Last Visited  \n",
      "3148     0.0        0  2020-04-13T15:36:42  \n"
     ]
    }
   ],
   "source": [
    "#examine outlier data\n",
    "\n",
    "rating_outlier = data[ data[ 'SalePrice'] > 35000 ]\n",
    "\n",
    "print( rating_outlier )"
   ]
  },
  {
   "cell_type": "code",
   "execution_count": 25,
   "metadata": {
    "scrolled": true
   },
   "outputs": [
    {
     "data": {
      "text/plain": [
       "<matplotlib.collections.PathCollection at 0x1a02d3769e8>"
      ]
     },
     "execution_count": 25,
     "metadata": {},
     "output_type": "execute_result"
    },
    {
     "data": {
      "image/png": "[encoded data removed]",
      "text/plain": [
       "<Figure size 432x288 with 1 Axes>"
      ]
     },
     "metadata": {},
     "output_type": "display_data"
    }
   ],
   "source": [
    "x = 'SalePrice'\n",
    "y = 'Reviews'\n",
    "\n",
    "plt.xlabel( x )\n",
    "plt.ylabel( y )\n",
    "plt.scatter( data[x] , data[y] , c = 'red' , s = 1 )"
   ]
  },
  {
   "cell_type": "code",
   "execution_count": 26,
   "metadata": {},
   "outputs": [
    {
     "name": "stdout",
     "output_type": "stream",
     "text": [
      "                    Style          ID  ListPrice  SalePrice  Discount Brand  \\\n",
      "2750  Air Jordan 10 Retro  310805-137          0      15995         0  Nike   \n",
      "\n",
      "                                            Description  Rating  Reviews  \\\n",
      "2750  Featuring soft, lightweight cushioning, the Ai...     4.7      223   \n",
      "\n",
      "             Last Visited  \n",
      "2750  2020-04-13T15:28:25  \n"
     ]
    }
   ],
   "source": [
    "#examine outlier data\n",
    "\n",
    "reviews_outlier = data[ data['Reviews'] > 200 ]\n",
    "\n",
    "print( reviews_outlier )"
   ]
  },
  {
   "cell_type": "code",
   "execution_count": 27,
   "metadata": {},
   "outputs": [
    {
     "data": {
      "text/plain": [
       "<matplotlib.collections.PathCollection at 0x1a02ee69780>"
      ]
     },
     "execution_count": 27,
     "metadata": {},
     "output_type": "execute_result"
    },
    {
     "data": {
      "image/png": "[encoded data removed]",
      "text/plain": [
       "<Figure size 432x288 with 1 Axes>"
      ]
     },
     "metadata": {},
     "output_type": "display_data"
    }
   ],
   "source": [
    "x = 'SalePrice'\n",
    "y = 'Discount'\n",
    "\n",
    "plt.xlabel( x )\n",
    "plt.ylabel( y )\n",
    "plt.scatter( data[x] , data[y] , c = 'green' )"
   ]
  },
  {
   "cell_type": "code",
   "execution_count": 28,
   "metadata": {},
   "outputs": [
    {
     "data": {
      "text/plain": [
       "<matplotlib.collections.PathCollection at 0x1a02eec3f98>"
      ]
     },
     "execution_count": 28,
     "metadata": {},
     "output_type": "execute_result"
    },
    {
     "data": {
      "image/png": "[encoded data removed]",
      "text/plain": [
       "<Figure size 432x288 with 1 Axes>"
      ]
     },
     "metadata": {},
     "output_type": "display_data"
    }
   ],
   "source": [
    "x = 'SalePrice'\n",
    "y = 'ListPrice'\n",
    "\n",
    "plt.xlabel( x )\n",
    "plt.ylabel( y )\n",
    "plt.scatter( data[x] , data[y] )"
   ]
  },
  {
   "cell_type": "markdown",
   "metadata": {},
   "source": [
    "## what obvious entries can we eliminate?"
   ]
  },
  {
   "cell_type": "code",
   "execution_count": null,
   "metadata": {},
   "outputs": [],
   "source": []
  }
 ],
 "metadata": {
  "kernelspec": {
   "display_name": "Python 3",
   "language": "python",
   "name": "python3"
  },
  "language_info": {
   "codemirror_mode": {
    "name": "ipython",
    "version": 3
   },
   "file_extension": ".py",
   "mimetype": "text/x-python",
   "name": "python",
   "nbconvert_exporter": "python",
   "pygments_lexer": "ipython3",
   "version": "3.6.5"
  }
 },
 "nbformat": 4,
 "nbformat_minor": 2
}
