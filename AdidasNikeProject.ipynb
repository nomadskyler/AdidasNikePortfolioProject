{
 "cells": [
  {
   "cell_type": "markdown",
   "metadata": {},
   "source": [
    "## Adidas vs Nike Shoes"
   ]
  },
  {
   "cell_type": "markdown",
   "metadata": {},
   "source": [
    "# DEFINE"
   ]
  },
  {
   "cell_type": "markdown",
   "metadata": {},
   "source": [
    "### What brand sells the most popular shoe?"
   ]
  },
  {
   "cell_type": "code",
   "execution_count": 1,
   "metadata": {},
   "outputs": [],
   "source": [
    "#load everything we might need\n",
    "import pandas as pd\n",
    "import seaborn as sns\n",
    "import numpy as np\n",
    "import matplotlib.pyplot as plt\n",
    "\n",
    "__author__ = \"Skyler Bullard\"\n",
    "__email__ = \"skyler.bullard.r@gmail.com\""
   ]
  },
  {
   "cell_type": "code",
   "execution_count": 2,
   "metadata": {},
   "outputs": [],
   "source": [
    "#load the data\n",
    "data = pd.read_csv( 'Adidas Vs Nike.csv' )"
   ]
  },
  {
   "cell_type": "markdown",
   "metadata": {},
   "source": [
    "# DISCOVER"
   ]
  },
  {
   "cell_type": "code",
   "execution_count": 3,
   "metadata": {},
   "outputs": [],
   "source": [
    "#rename columns in dataframe\n",
    "data.rename( columns = { \"Product Name\" : \"Style\" , \"Product ID\" : \"ID\" ,\n",
    "                       \"Listing Price\" : \"ListPrice\" , \"Sale Price\" : \"SalePrice\" }\n",
    "            , inplace = True )"
   ]
  },
  {
   "cell_type": "code",
   "execution_count": 4,
   "metadata": {
    "scrolled": true
   },
   "outputs": [],
   "source": [
    "#data.head()"
   ]
  },
  {
   "cell_type": "markdown",
   "metadata": {},
   "source": [
    "### We have a 3,268 x 10 (row x column) dataframe. Define features:"
   ]
  },
  {
   "cell_type": "markdown",
   "metadata": {},
   "source": [
    "### Style: unique description\n",
    "### ID: manufacturer product number or company SKU\n",
    "### ListPrice: how much money shoe sells as is\n",
    "### SalePrice: how much money a retailer sells item for w/ discount\n",
    "### Discount: a percentage of money removed from SalePrice\n",
    "### Brand: a type of product manfuactured by a particular company under a specific name\n",
    "### Description: content information for a product\n",
    "### Rating: a classification of the product based on a certain assessment\n",
    "### Reviews: a critical assessment of the product\n",
    "### Last Visited: date-time of most recent webpage viewing"
   ]
  },
  {
   "cell_type": "code",
   "execution_count": 5,
   "metadata": {},
   "outputs": [
    {
     "name": "stdout",
     "output_type": "stream",
     "text": [
      "<class 'pandas.core.frame.DataFrame'>\n",
      "RangeIndex: 3268 entries, 0 to 3267\n",
      "Data columns (total 10 columns):\n",
      "Style           3268 non-null object\n",
      "ID              3268 non-null object\n",
      "ListPrice       3268 non-null int64\n",
      "SalePrice       3268 non-null int64\n",
      "Discount        3268 non-null int64\n",
      "Brand           3268 non-null object\n",
      "Description     3265 non-null object\n",
      "Rating          3268 non-null float64\n",
      "Reviews         3268 non-null int64\n",
      "Last Visited    3268 non-null object\n",
      "dtypes: float64(1), int64(4), object(5)\n",
      "memory usage: 255.4+ KB\n",
      "32680\n"
     ]
    }
   ],
   "source": [
    "data.info()\n",
    "print( data.size )"
   ]
  },
  {
   "cell_type": "code",
   "execution_count": 6,
   "metadata": {
    "scrolled": true
   },
   "outputs": [
    {
     "data": {
      "text/html": [
       "<div>\n",
       "<style scoped>\n",
       "    .dataframe tbody tr th:only-of-type {\n",
       "        vertical-align: middle;\n",
       "    }\n",
       "\n",
       "    .dataframe tbody tr th {\n",
       "        vertical-align: top;\n",
       "    }\n",
       "\n",
       "    .dataframe thead th {\n",
       "        text-align: right;\n",
       "    }\n",
       "</style>\n",
       "<table border=\"1\" class=\"dataframe\">\n",
       "  <thead>\n",
       "    <tr style=\"text-align: right;\">\n",
       "      <th></th>\n",
       "      <th>ListPrice</th>\n",
       "      <th>SalePrice</th>\n",
       "      <th>Discount</th>\n",
       "      <th>Rating</th>\n",
       "      <th>Reviews</th>\n",
       "    </tr>\n",
       "  </thead>\n",
       "  <tbody>\n",
       "    <tr>\n",
       "      <th>count</th>\n",
       "      <td>3268.000000</td>\n",
       "      <td>3268.000000</td>\n",
       "      <td>3268.000000</td>\n",
       "      <td>3268.000000</td>\n",
       "      <td>3268.000000</td>\n",
       "    </tr>\n",
       "    <tr>\n",
       "      <th>mean</th>\n",
       "      <td>6868.020196</td>\n",
       "      <td>6134.265606</td>\n",
       "      <td>26.875765</td>\n",
       "      <td>3.242105</td>\n",
       "      <td>40.551714</td>\n",
       "    </tr>\n",
       "    <tr>\n",
       "      <th>std</th>\n",
       "      <td>4724.659386</td>\n",
       "      <td>4293.247581</td>\n",
       "      <td>22.633487</td>\n",
       "      <td>1.428856</td>\n",
       "      <td>31.543491</td>\n",
       "    </tr>\n",
       "    <tr>\n",
       "      <th>min</th>\n",
       "      <td>0.000000</td>\n",
       "      <td>449.000000</td>\n",
       "      <td>0.000000</td>\n",
       "      <td>0.000000</td>\n",
       "      <td>0.000000</td>\n",
       "    </tr>\n",
       "    <tr>\n",
       "      <th>25%</th>\n",
       "      <td>4299.000000</td>\n",
       "      <td>2999.000000</td>\n",
       "      <td>0.000000</td>\n",
       "      <td>2.600000</td>\n",
       "      <td>10.000000</td>\n",
       "    </tr>\n",
       "    <tr>\n",
       "      <th>50%</th>\n",
       "      <td>5999.000000</td>\n",
       "      <td>4799.000000</td>\n",
       "      <td>40.000000</td>\n",
       "      <td>3.500000</td>\n",
       "      <td>37.000000</td>\n",
       "    </tr>\n",
       "    <tr>\n",
       "      <th>75%</th>\n",
       "      <td>8999.000000</td>\n",
       "      <td>7995.000000</td>\n",
       "      <td>50.000000</td>\n",
       "      <td>4.400000</td>\n",
       "      <td>68.000000</td>\n",
       "    </tr>\n",
       "    <tr>\n",
       "      <th>max</th>\n",
       "      <td>29999.000000</td>\n",
       "      <td>36500.000000</td>\n",
       "      <td>60.000000</td>\n",
       "      <td>5.000000</td>\n",
       "      <td>223.000000</td>\n",
       "    </tr>\n",
       "  </tbody>\n",
       "</table>\n",
       "</div>"
      ],
      "text/plain": [
       "          ListPrice     SalePrice     Discount       Rating      Reviews\n",
       "count   3268.000000   3268.000000  3268.000000  3268.000000  3268.000000\n",
       "mean    6868.020196   6134.265606    26.875765     3.242105    40.551714\n",
       "std     4724.659386   4293.247581    22.633487     1.428856    31.543491\n",
       "min        0.000000    449.000000     0.000000     0.000000     0.000000\n",
       "25%     4299.000000   2999.000000     0.000000     2.600000    10.000000\n",
       "50%     5999.000000   4799.000000    40.000000     3.500000    37.000000\n",
       "75%     8999.000000   7995.000000    50.000000     4.400000    68.000000\n",
       "max    29999.000000  36500.000000    60.000000     5.000000   223.000000"
      ]
     },
     "execution_count": 6,
     "metadata": {},
     "output_type": "execute_result"
    }
   ],
   "source": [
    "#summary statistics of quantitative feature variables\n",
    "data.describe()"
   ]
  },
  {
   "cell_type": "markdown",
   "metadata": {},
   "source": [
    "## target variable"
   ]
  },
  {
   "cell_type": "markdown",
   "metadata": {},
   "source": [
    "### SalePrice is the target. Find the brand with the highest average of sales"
   ]
  },
  {
   "cell_type": "code",
   "execution_count": 7,
   "metadata": {},
   "outputs": [
    {
     "data": {
      "text/plain": [
       "count     3268.000000\n",
       "mean      6134.265606\n",
       "std       4293.247581\n",
       "min        449.000000\n",
       "25%       2999.000000\n",
       "50%       4799.000000\n",
       "75%       7995.000000\n",
       "max      36500.000000\n",
       "Name: SalePrice, dtype: float64"
      ]
     },
     "execution_count": 7,
     "metadata": {},
     "output_type": "execute_result"
    }
   ],
   "source": [
    "#summarize target variable\n",
    "data.SalePrice.describe()"
   ]
  },
  {
   "cell_type": "markdown",
   "metadata": {},
   "source": [
    "## Relationships"
   ]
  },
  {
   "cell_type": "markdown",
   "metadata": {},
   "source": [
    "### scatterplots can simply check for a relationship between two variables"
   ]
  },
  {
   "cell_type": "code",
   "execution_count": 8,
   "metadata": {
    "scrolled": true
   },
   "outputs": [
    {
     "data": {
      "text/plain": [
       "<matplotlib.collections.PathCollection at 0x18351637400>"
      ]
     },
     "execution_count": 8,
     "metadata": {},
     "output_type": "execute_result"
    },
    {
     "data": {
      "image/png": "[encoded data removed]",
      "text/plain": [
       "<Figure size 432x288 with 1 Axes>"
      ]
     },
     "metadata": {},
     "output_type": "display_data"
    }
   ],
   "source": [
    "x = 'SalePrice'\n",
    "y = 'Rating'\n",
    "\n",
    "plt.xlabel( x )\n",
    "plt.ylabel( y )\n",
    "plt.scatter( data[x] , data[y] , alpha = 0.2)"
   ]
  },
  {
   "cell_type": "markdown",
   "metadata": {},
   "source": [
    "### 'Rating' does not have much relationship with 'SalePrice'"
   ]
  },
  {
   "cell_type": "code",
   "execution_count": 9,
   "metadata": {},
   "outputs": [
    {
     "name": "stdout",
     "output_type": "stream",
     "text": [
      "                                Style          ID  ListPrice  SalePrice  \\\n",
      "3148  Nike Air VaporMax Flyknit 2 LXX  AT5673-700          0      36500   \n",
      "\n",
      "      Discount Brand                                        Description  \\\n",
      "3148         0  Nike  The Nike Air VaporMax Flyknit 2 LXX places you...   \n",
      "\n",
      "      Rating  Reviews         Last Visited  \n",
      "3148     0.0        0  2020-04-13T15:36:42  \n"
     ]
    }
   ],
   "source": [
    "#examine 'SalePrice' outlier data\n",
    "\n",
    "rating_outlier = data[ data[ 'SalePrice'] > 35000 ]\n",
    "\n",
    "print( rating_outlier )"
   ]
  },
  {
   "cell_type": "code",
   "execution_count": 10,
   "metadata": {
    "scrolled": true
   },
   "outputs": [
    {
     "data": {
      "text/plain": [
       "<matplotlib.collections.PathCollection at 0x18352697a58>"
      ]
     },
     "execution_count": 10,
     "metadata": {},
     "output_type": "execute_result"
    },
    {
     "data": {
      "image/png": "[encoded data removed]",
      "text/plain": [
       "<Figure size 432x288 with 1 Axes>"
      ]
     },
     "metadata": {},
     "output_type": "display_data"
    }
   ],
   "source": [
    "x = 'SalePrice'\n",
    "y = 'Reviews'\n",
    "\n",
    "plt.xlabel( x )\n",
    "plt.ylabel( y )\n",
    "plt.scatter( data[x] , data[y] , c = 'red' , s = 1  )"
   ]
  },
  {
   "cell_type": "markdown",
   "metadata": {},
   "source": [
    "### 'Reviews' does not have much relationship with 'SalePrice'"
   ]
  },
  {
   "cell_type": "code",
   "execution_count": 11,
   "metadata": {},
   "outputs": [
    {
     "name": "stdout",
     "output_type": "stream",
     "text": [
      "                    Style          ID  ListPrice  SalePrice  Discount Brand  \\\n",
      "2750  Air Jordan 10 Retro  310805-137          0      15995         0  Nike   \n",
      "\n",
      "                                            Description  Rating  Reviews  \\\n",
      "2750  Featuring soft, lightweight cushioning, the Ai...     4.7      223   \n",
      "\n",
      "             Last Visited  \n",
      "2750  2020-04-13T15:28:25  \n"
     ]
    }
   ],
   "source": [
    "#examine 'Reviews' outlier\n",
    "\n",
    "reviews_outlier = data[ data['Reviews'] > 200 ]\n",
    "\n",
    "print( reviews_outlier )"
   ]
  },
  {
   "cell_type": "code",
   "execution_count": 12,
   "metadata": {},
   "outputs": [
    {
     "data": {
      "text/plain": [
       "<matplotlib.collections.PathCollection at 0x183526fe898>"
      ]
     },
     "execution_count": 12,
     "metadata": {},
     "output_type": "execute_result"
    },
    {
     "data": {
      "image/png": "[encoded data removed]",
      "text/plain": [
       "<Figure size 432x288 with 1 Axes>"
      ]
     },
     "metadata": {},
     "output_type": "display_data"
    }
   ],
   "source": [
    "x = 'SalePrice'\n",
    "y = 'Discount'\n",
    "\n",
    "plt.xlabel( x )\n",
    "plt.ylabel( y )\n",
    "plt.scatter( data[x] , data[y] , c = 'green' )"
   ]
  },
  {
   "cell_type": "markdown",
   "metadata": {},
   "source": [
    "### 'Discount' has somewhat a negative relationship with 'SalePrice'"
   ]
  },
  {
   "cell_type": "code",
   "execution_count": 13,
   "metadata": {},
   "outputs": [
    {
     "data": {
      "text/plain": [
       "<matplotlib.collections.PathCollection at 0x1835275d940>"
      ]
     },
     "execution_count": 13,
     "metadata": {},
     "output_type": "execute_result"
    },
    {
     "data": {
      "image/png": "[encoded data removed]",
      "text/plain": [
       "<Figure size 432x288 with 1 Axes>"
      ]
     },
     "metadata": {},
     "output_type": "display_data"
    }
   ],
   "source": [
    "x = 'SalePrice'\n",
    "y = 'ListPrice'\n",
    "\n",
    "plt.xlabel( x )\n",
    "plt.ylabel( y )\n",
    "plt.scatter( data[x] , data[y] , alpha = 0.1 )"
   ]
  },
  {
   "cell_type": "markdown",
   "metadata": {},
   "source": [
    "### 'ListPrice' has somewhat a positive relationship with 'SalePrice'"
   ]
  },
  {
   "cell_type": "code",
   "execution_count": 14,
   "metadata": {},
   "outputs": [
    {
     "name": "stdout",
     "output_type": "stream",
     "text": [
      "Rating\n",
      "0.0    302\n",
      "1.0    101\n",
      "1.5     70\n",
      "2.0     86\n",
      "2.2     78\n",
      "2.4     90\n",
      "2.5     83\n",
      "2.6     83\n",
      "2.7     83\n",
      "2.8     96\n",
      "2.9     74\n",
      "3.0     92\n",
      "3.1     86\n",
      "3.2     73\n",
      "3.3     72\n",
      "3.4     75\n",
      "3.5    101\n",
      "3.6     87\n",
      "3.7     89\n",
      "3.8     98\n",
      "3.9     92\n",
      "4.0    108\n",
      "4.1    104\n",
      "4.2    111\n",
      "4.3     94\n",
      "4.4    115\n",
      "4.5    114\n",
      "4.6     91\n",
      "4.7    108\n",
      "4.8    107\n",
      "4.9     98\n",
      "5.0    207\n",
      "Name: SalePrice, dtype: int64\n"
     ]
    }
   ],
   "source": [
    "#compute the group size of SalePrice with each rating\n",
    "sale_rating_grouped = data[ 'SalePrice' ].groupby( data[ 'Rating' ] ).size()\n",
    "\n",
    "#call object\n",
    "print( sale_rating_grouped )"
   ]
  },
  {
   "cell_type": "code",
   "execution_count": 15,
   "metadata": {},
   "outputs": [
    {
     "data": {
      "text/html": [
       "<div>\n",
       "<style scoped>\n",
       "    .dataframe tbody tr th:only-of-type {\n",
       "        vertical-align: middle;\n",
       "    }\n",
       "\n",
       "    .dataframe tbody tr th {\n",
       "        vertical-align: top;\n",
       "    }\n",
       "\n",
       "    .dataframe thead th {\n",
       "        text-align: right;\n",
       "    }\n",
       "</style>\n",
       "<table border=\"1\" class=\"dataframe\">\n",
       "  <thead>\n",
       "    <tr style=\"text-align: right;\">\n",
       "      <th>Reviews</th>\n",
       "      <th>0</th>\n",
       "      <th>1</th>\n",
       "      <th>2</th>\n",
       "      <th>3</th>\n",
       "      <th>4</th>\n",
       "      <th>5</th>\n",
       "      <th>6</th>\n",
       "      <th>7</th>\n",
       "      <th>8</th>\n",
       "      <th>9</th>\n",
       "      <th>...</th>\n",
       "      <th>92</th>\n",
       "      <th>93</th>\n",
       "      <th>94</th>\n",
       "      <th>95</th>\n",
       "      <th>96</th>\n",
       "      <th>97</th>\n",
       "      <th>98</th>\n",
       "      <th>99</th>\n",
       "      <th>105</th>\n",
       "      <th>223</th>\n",
       "    </tr>\n",
       "    <tr>\n",
       "      <th>Rating</th>\n",
       "      <th></th>\n",
       "      <th></th>\n",
       "      <th></th>\n",
       "      <th></th>\n",
       "      <th></th>\n",
       "      <th></th>\n",
       "      <th></th>\n",
       "      <th></th>\n",
       "      <th></th>\n",
       "      <th></th>\n",
       "      <th></th>\n",
       "      <th></th>\n",
       "      <th></th>\n",
       "      <th></th>\n",
       "      <th></th>\n",
       "      <th></th>\n",
       "      <th></th>\n",
       "      <th></th>\n",
       "      <th></th>\n",
       "      <th></th>\n",
       "      <th></th>\n",
       "    </tr>\n",
       "  </thead>\n",
       "  <tbody>\n",
       "    <tr>\n",
       "      <th>0.0</th>\n",
       "      <td>9807.317391</td>\n",
       "      <td>NaN</td>\n",
       "      <td>1979.000000</td>\n",
       "      <td>NaN</td>\n",
       "      <td>4285.666667</td>\n",
       "      <td>NaN</td>\n",
       "      <td>NaN</td>\n",
       "      <td>23999.000000</td>\n",
       "      <td>1299.000000</td>\n",
       "      <td>NaN</td>\n",
       "      <td>...</td>\n",
       "      <td>NaN</td>\n",
       "      <td>5399.0</td>\n",
       "      <td>6279.0</td>\n",
       "      <td>NaN</td>\n",
       "      <td>NaN</td>\n",
       "      <td>NaN</td>\n",
       "      <td>NaN</td>\n",
       "      <td>NaN</td>\n",
       "      <td>NaN</td>\n",
       "      <td>NaN</td>\n",
       "    </tr>\n",
       "    <tr>\n",
       "      <th>1.0</th>\n",
       "      <td>1840.000000</td>\n",
       "      <td>8253.571429</td>\n",
       "      <td>3520.000000</td>\n",
       "      <td>2999.000000</td>\n",
       "      <td>4199.000000</td>\n",
       "      <td>3599.000000</td>\n",
       "      <td>9299.000000</td>\n",
       "      <td>1399.000000</td>\n",
       "      <td>NaN</td>\n",
       "      <td>5399.0</td>\n",
       "      <td>...</td>\n",
       "      <td>NaN</td>\n",
       "      <td>7999.0</td>\n",
       "      <td>8999.0</td>\n",
       "      <td>4224.000000</td>\n",
       "      <td>4999.000000</td>\n",
       "      <td>NaN</td>\n",
       "      <td>NaN</td>\n",
       "      <td>7599.0</td>\n",
       "      <td>NaN</td>\n",
       "      <td>NaN</td>\n",
       "    </tr>\n",
       "    <tr>\n",
       "      <th>1.5</th>\n",
       "      <td>2499.000000</td>\n",
       "      <td>2999.000000</td>\n",
       "      <td>3811.000000</td>\n",
       "      <td>NaN</td>\n",
       "      <td>NaN</td>\n",
       "      <td>3999.000000</td>\n",
       "      <td>2149.000000</td>\n",
       "      <td>NaN</td>\n",
       "      <td>NaN</td>\n",
       "      <td>NaN</td>\n",
       "      <td>...</td>\n",
       "      <td>NaN</td>\n",
       "      <td>NaN</td>\n",
       "      <td>NaN</td>\n",
       "      <td>NaN</td>\n",
       "      <td>4999.000000</td>\n",
       "      <td>NaN</td>\n",
       "      <td>1799.00</td>\n",
       "      <td>NaN</td>\n",
       "      <td>NaN</td>\n",
       "      <td>NaN</td>\n",
       "    </tr>\n",
       "    <tr>\n",
       "      <th>2.0</th>\n",
       "      <td>4999.000000</td>\n",
       "      <td>4107.200000</td>\n",
       "      <td>5647.000000</td>\n",
       "      <td>NaN</td>\n",
       "      <td>NaN</td>\n",
       "      <td>NaN</td>\n",
       "      <td>4799.000000</td>\n",
       "      <td>NaN</td>\n",
       "      <td>NaN</td>\n",
       "      <td>3999.0</td>\n",
       "      <td>...</td>\n",
       "      <td>NaN</td>\n",
       "      <td>NaN</td>\n",
       "      <td>3799.0</td>\n",
       "      <td>5179.000000</td>\n",
       "      <td>NaN</td>\n",
       "      <td>2799.000000</td>\n",
       "      <td>2124.00</td>\n",
       "      <td>NaN</td>\n",
       "      <td>NaN</td>\n",
       "      <td>NaN</td>\n",
       "    </tr>\n",
       "    <tr>\n",
       "      <th>2.2</th>\n",
       "      <td>NaN</td>\n",
       "      <td>6979.000000</td>\n",
       "      <td>3600.000000</td>\n",
       "      <td>2759.000000</td>\n",
       "      <td>NaN</td>\n",
       "      <td>11597.666667</td>\n",
       "      <td>3529.000000</td>\n",
       "      <td>NaN</td>\n",
       "      <td>NaN</td>\n",
       "      <td>NaN</td>\n",
       "      <td>...</td>\n",
       "      <td>3999.000000</td>\n",
       "      <td>NaN</td>\n",
       "      <td>NaN</td>\n",
       "      <td>NaN</td>\n",
       "      <td>10299.000000</td>\n",
       "      <td>5999.000000</td>\n",
       "      <td>4999.00</td>\n",
       "      <td>5549.0</td>\n",
       "      <td>NaN</td>\n",
       "      <td>NaN</td>\n",
       "    </tr>\n",
       "    <tr>\n",
       "      <th>2.4</th>\n",
       "      <td>NaN</td>\n",
       "      <td>1799.000000</td>\n",
       "      <td>4924.000000</td>\n",
       "      <td>NaN</td>\n",
       "      <td>NaN</td>\n",
       "      <td>6397.000000</td>\n",
       "      <td>5999.000000</td>\n",
       "      <td>NaN</td>\n",
       "      <td>NaN</td>\n",
       "      <td>NaN</td>\n",
       "      <td>...</td>\n",
       "      <td>2299.000000</td>\n",
       "      <td>NaN</td>\n",
       "      <td>NaN</td>\n",
       "      <td>1679.000000</td>\n",
       "      <td>1844.000000</td>\n",
       "      <td>NaN</td>\n",
       "      <td>3359.00</td>\n",
       "      <td>2649.0</td>\n",
       "      <td>NaN</td>\n",
       "      <td>NaN</td>\n",
       "    </tr>\n",
       "    <tr>\n",
       "      <th>2.5</th>\n",
       "      <td>5599.000000</td>\n",
       "      <td>3599.000000</td>\n",
       "      <td>4099.000000</td>\n",
       "      <td>NaN</td>\n",
       "      <td>3599.000000</td>\n",
       "      <td>3299.000000</td>\n",
       "      <td>3748.333333</td>\n",
       "      <td>2224.000000</td>\n",
       "      <td>5132.333333</td>\n",
       "      <td>NaN</td>\n",
       "      <td>...</td>\n",
       "      <td>10999.000000</td>\n",
       "      <td>NaN</td>\n",
       "      <td>NaN</td>\n",
       "      <td>2799.000000</td>\n",
       "      <td>NaN</td>\n",
       "      <td>NaN</td>\n",
       "      <td>4999.00</td>\n",
       "      <td>NaN</td>\n",
       "      <td>NaN</td>\n",
       "      <td>NaN</td>\n",
       "    </tr>\n",
       "    <tr>\n",
       "      <th>2.6</th>\n",
       "      <td>NaN</td>\n",
       "      <td>NaN</td>\n",
       "      <td>3959.000000</td>\n",
       "      <td>1749.000000</td>\n",
       "      <td>5999.000000</td>\n",
       "      <td>3679.000000</td>\n",
       "      <td>6249.000000</td>\n",
       "      <td>NaN</td>\n",
       "      <td>NaN</td>\n",
       "      <td>4499.0</td>\n",
       "      <td>...</td>\n",
       "      <td>NaN</td>\n",
       "      <td>NaN</td>\n",
       "      <td>17999.0</td>\n",
       "      <td>NaN</td>\n",
       "      <td>NaN</td>\n",
       "      <td>4674.250000</td>\n",
       "      <td>4799.00</td>\n",
       "      <td>NaN</td>\n",
       "      <td>NaN</td>\n",
       "      <td>NaN</td>\n",
       "    </tr>\n",
       "    <tr>\n",
       "      <th>2.7</th>\n",
       "      <td>4749.000000</td>\n",
       "      <td>NaN</td>\n",
       "      <td>NaN</td>\n",
       "      <td>9496.333333</td>\n",
       "      <td>2799.000000</td>\n",
       "      <td>NaN</td>\n",
       "      <td>NaN</td>\n",
       "      <td>NaN</td>\n",
       "      <td>NaN</td>\n",
       "      <td>7199.0</td>\n",
       "      <td>...</td>\n",
       "      <td>4000.000000</td>\n",
       "      <td>1899.0</td>\n",
       "      <td>NaN</td>\n",
       "      <td>NaN</td>\n",
       "      <td>NaN</td>\n",
       "      <td>2499.000000</td>\n",
       "      <td>3499.00</td>\n",
       "      <td>NaN</td>\n",
       "      <td>NaN</td>\n",
       "      <td>NaN</td>\n",
       "    </tr>\n",
       "    <tr>\n",
       "      <th>2.8</th>\n",
       "      <td>4559.000000</td>\n",
       "      <td>3679.000000</td>\n",
       "      <td>3299.000000</td>\n",
       "      <td>2000.000000</td>\n",
       "      <td>1649.000000</td>\n",
       "      <td>5554.500000</td>\n",
       "      <td>4279.000000</td>\n",
       "      <td>599.000000</td>\n",
       "      <td>6285.666667</td>\n",
       "      <td>NaN</td>\n",
       "      <td>...</td>\n",
       "      <td>2649.000000</td>\n",
       "      <td>7199.0</td>\n",
       "      <td>2999.0</td>\n",
       "      <td>5679.000000</td>\n",
       "      <td>NaN</td>\n",
       "      <td>NaN</td>\n",
       "      <td>9499.00</td>\n",
       "      <td>NaN</td>\n",
       "      <td>NaN</td>\n",
       "      <td>NaN</td>\n",
       "    </tr>\n",
       "    <tr>\n",
       "      <th>2.9</th>\n",
       "      <td>600.000000</td>\n",
       "      <td>2724.000000</td>\n",
       "      <td>2739.000000</td>\n",
       "      <td>NaN</td>\n",
       "      <td>7299.000000</td>\n",
       "      <td>5999.000000</td>\n",
       "      <td>NaN</td>\n",
       "      <td>5299.000000</td>\n",
       "      <td>6647.000000</td>\n",
       "      <td>2699.0</td>\n",
       "      <td>...</td>\n",
       "      <td>NaN</td>\n",
       "      <td>NaN</td>\n",
       "      <td>4799.0</td>\n",
       "      <td>NaN</td>\n",
       "      <td>NaN</td>\n",
       "      <td>4559.000000</td>\n",
       "      <td>7699.00</td>\n",
       "      <td>2399.5</td>\n",
       "      <td>NaN</td>\n",
       "      <td>NaN</td>\n",
       "    </tr>\n",
       "    <tr>\n",
       "      <th>3.0</th>\n",
       "      <td>2999.000000</td>\n",
       "      <td>10316.200000</td>\n",
       "      <td>9076.666667</td>\n",
       "      <td>6599.000000</td>\n",
       "      <td>10796.333333</td>\n",
       "      <td>7463.666667</td>\n",
       "      <td>6397.000000</td>\n",
       "      <td>8931.000000</td>\n",
       "      <td>NaN</td>\n",
       "      <td>21999.0</td>\n",
       "      <td>...</td>\n",
       "      <td>NaN</td>\n",
       "      <td>NaN</td>\n",
       "      <td>4999.0</td>\n",
       "      <td>NaN</td>\n",
       "      <td>3999.000000</td>\n",
       "      <td>NaN</td>\n",
       "      <td>NaN</td>\n",
       "      <td>NaN</td>\n",
       "      <td>NaN</td>\n",
       "      <td>NaN</td>\n",
       "    </tr>\n",
       "    <tr>\n",
       "      <th>3.1</th>\n",
       "      <td>NaN</td>\n",
       "      <td>NaN</td>\n",
       "      <td>NaN</td>\n",
       "      <td>NaN</td>\n",
       "      <td>4799.000000</td>\n",
       "      <td>1499.000000</td>\n",
       "      <td>NaN</td>\n",
       "      <td>10197.400000</td>\n",
       "      <td>4997.000000</td>\n",
       "      <td>4799.0</td>\n",
       "      <td>...</td>\n",
       "      <td>NaN</td>\n",
       "      <td>NaN</td>\n",
       "      <td>NaN</td>\n",
       "      <td>3999.000000</td>\n",
       "      <td>4999.000000</td>\n",
       "      <td>NaN</td>\n",
       "      <td>1679.00</td>\n",
       "      <td>5999.0</td>\n",
       "      <td>NaN</td>\n",
       "      <td>NaN</td>\n",
       "    </tr>\n",
       "    <tr>\n",
       "      <th>3.2</th>\n",
       "      <td>NaN</td>\n",
       "      <td>12999.000000</td>\n",
       "      <td>2549.000000</td>\n",
       "      <td>2339.000000</td>\n",
       "      <td>NaN</td>\n",
       "      <td>7197.000000</td>\n",
       "      <td>NaN</td>\n",
       "      <td>NaN</td>\n",
       "      <td>3999.000000</td>\n",
       "      <td>12999.0</td>\n",
       "      <td>...</td>\n",
       "      <td>NaN</td>\n",
       "      <td>3799.0</td>\n",
       "      <td>5099.0</td>\n",
       "      <td>NaN</td>\n",
       "      <td>7999.000000</td>\n",
       "      <td>3359.000000</td>\n",
       "      <td>9999.00</td>\n",
       "      <td>NaN</td>\n",
       "      <td>NaN</td>\n",
       "      <td>NaN</td>\n",
       "    </tr>\n",
       "    <tr>\n",
       "      <th>3.3</th>\n",
       "      <td>NaN</td>\n",
       "      <td>3999.000000</td>\n",
       "      <td>2799.000000</td>\n",
       "      <td>15995.000000</td>\n",
       "      <td>4499.000000</td>\n",
       "      <td>5479.000000</td>\n",
       "      <td>3999.000000</td>\n",
       "      <td>NaN</td>\n",
       "      <td>6999.000000</td>\n",
       "      <td>NaN</td>\n",
       "      <td>...</td>\n",
       "      <td>7999.000000</td>\n",
       "      <td>NaN</td>\n",
       "      <td>NaN</td>\n",
       "      <td>2999.000000</td>\n",
       "      <td>7999.000000</td>\n",
       "      <td>3299.000000</td>\n",
       "      <td>NaN</td>\n",
       "      <td>NaN</td>\n",
       "      <td>NaN</td>\n",
       "      <td>NaN</td>\n",
       "    </tr>\n",
       "    <tr>\n",
       "      <th>3.4</th>\n",
       "      <td>NaN</td>\n",
       "      <td>NaN</td>\n",
       "      <td>1799.000000</td>\n",
       "      <td>3999.000000</td>\n",
       "      <td>NaN</td>\n",
       "      <td>5429.666667</td>\n",
       "      <td>6599.000000</td>\n",
       "      <td>5397.000000</td>\n",
       "      <td>2149.000000</td>\n",
       "      <td>4999.0</td>\n",
       "      <td>...</td>\n",
       "      <td>NaN</td>\n",
       "      <td>10999.0</td>\n",
       "      <td>NaN</td>\n",
       "      <td>NaN</td>\n",
       "      <td>NaN</td>\n",
       "      <td>2999.000000</td>\n",
       "      <td>NaN</td>\n",
       "      <td>NaN</td>\n",
       "      <td>NaN</td>\n",
       "      <td>NaN</td>\n",
       "    </tr>\n",
       "    <tr>\n",
       "      <th>3.5</th>\n",
       "      <td>4499.000000</td>\n",
       "      <td>6399.000000</td>\n",
       "      <td>9495.000000</td>\n",
       "      <td>2799.000000</td>\n",
       "      <td>11937.400000</td>\n",
       "      <td>NaN</td>\n",
       "      <td>6865.000000</td>\n",
       "      <td>NaN</td>\n",
       "      <td>2149.000000</td>\n",
       "      <td>7199.0</td>\n",
       "      <td>...</td>\n",
       "      <td>2799.000000</td>\n",
       "      <td>7999.0</td>\n",
       "      <td>NaN</td>\n",
       "      <td>3165.666667</td>\n",
       "      <td>2499.000000</td>\n",
       "      <td>2299.000000</td>\n",
       "      <td>NaN</td>\n",
       "      <td>1899.0</td>\n",
       "      <td>NaN</td>\n",
       "      <td>NaN</td>\n",
       "    </tr>\n",
       "    <tr>\n",
       "      <th>3.6</th>\n",
       "      <td>4799.000000</td>\n",
       "      <td>10799.000000</td>\n",
       "      <td>NaN</td>\n",
       "      <td>NaN</td>\n",
       "      <td>6679.000000</td>\n",
       "      <td>5464.333333</td>\n",
       "      <td>NaN</td>\n",
       "      <td>NaN</td>\n",
       "      <td>NaN</td>\n",
       "      <td>NaN</td>\n",
       "      <td>...</td>\n",
       "      <td>NaN</td>\n",
       "      <td>4674.0</td>\n",
       "      <td>NaN</td>\n",
       "      <td>NaN</td>\n",
       "      <td>NaN</td>\n",
       "      <td>NaN</td>\n",
       "      <td>3599.00</td>\n",
       "      <td>NaN</td>\n",
       "      <td>NaN</td>\n",
       "      <td>NaN</td>\n",
       "    </tr>\n",
       "    <tr>\n",
       "      <th>3.7</th>\n",
       "      <td>3359.000000</td>\n",
       "      <td>2499.000000</td>\n",
       "      <td>5965.666667</td>\n",
       "      <td>11756.600000</td>\n",
       "      <td>6499.000000</td>\n",
       "      <td>NaN</td>\n",
       "      <td>NaN</td>\n",
       "      <td>NaN</td>\n",
       "      <td>5999.000000</td>\n",
       "      <td>749.0</td>\n",
       "      <td>...</td>\n",
       "      <td>2999.000000</td>\n",
       "      <td>5499.0</td>\n",
       "      <td>NaN</td>\n",
       "      <td>2499.000000</td>\n",
       "      <td>4999.000000</td>\n",
       "      <td>NaN</td>\n",
       "      <td>NaN</td>\n",
       "      <td>999.0</td>\n",
       "      <td>NaN</td>\n",
       "      <td>NaN</td>\n",
       "    </tr>\n",
       "    <tr>\n",
       "      <th>3.8</th>\n",
       "      <td>8932.333333</td>\n",
       "      <td>5899.000000</td>\n",
       "      <td>6999.000000</td>\n",
       "      <td>3485.666667</td>\n",
       "      <td>7023.666667</td>\n",
       "      <td>3797.000000</td>\n",
       "      <td>6995.000000</td>\n",
       "      <td>NaN</td>\n",
       "      <td>3719.000000</td>\n",
       "      <td>5999.0</td>\n",
       "      <td>...</td>\n",
       "      <td>5999.000000</td>\n",
       "      <td>5999.0</td>\n",
       "      <td>NaN</td>\n",
       "      <td>7799.000000</td>\n",
       "      <td>2499.000000</td>\n",
       "      <td>6599.000000</td>\n",
       "      <td>5049.25</td>\n",
       "      <td>NaN</td>\n",
       "      <td>NaN</td>\n",
       "      <td>NaN</td>\n",
       "    </tr>\n",
       "    <tr>\n",
       "      <th>3.9</th>\n",
       "      <td>NaN</td>\n",
       "      <td>3396.500000</td>\n",
       "      <td>NaN</td>\n",
       "      <td>1979.000000</td>\n",
       "      <td>3959.000000</td>\n",
       "      <td>3599.000000</td>\n",
       "      <td>7999.000000</td>\n",
       "      <td>NaN</td>\n",
       "      <td>NaN</td>\n",
       "      <td>NaN</td>\n",
       "      <td>...</td>\n",
       "      <td>NaN</td>\n",
       "      <td>NaN</td>\n",
       "      <td>19999.0</td>\n",
       "      <td>4999.000000</td>\n",
       "      <td>NaN</td>\n",
       "      <td>NaN</td>\n",
       "      <td>3499.00</td>\n",
       "      <td>NaN</td>\n",
       "      <td>NaN</td>\n",
       "      <td>NaN</td>\n",
       "    </tr>\n",
       "    <tr>\n",
       "      <th>4.0</th>\n",
       "      <td>3799.000000</td>\n",
       "      <td>10486.636364</td>\n",
       "      <td>8397.000000</td>\n",
       "      <td>12645.666667</td>\n",
       "      <td>16495.000000</td>\n",
       "      <td>6072.500000</td>\n",
       "      <td>7972.500000</td>\n",
       "      <td>3799.000000</td>\n",
       "      <td>NaN</td>\n",
       "      <td>6797.0</td>\n",
       "      <td>...</td>\n",
       "      <td>NaN</td>\n",
       "      <td>NaN</td>\n",
       "      <td>2499.0</td>\n",
       "      <td>NaN</td>\n",
       "      <td>NaN</td>\n",
       "      <td>NaN</td>\n",
       "      <td>NaN</td>\n",
       "      <td>4799.0</td>\n",
       "      <td>NaN</td>\n",
       "      <td>NaN</td>\n",
       "    </tr>\n",
       "    <tr>\n",
       "      <th>4.1</th>\n",
       "      <td>4559.000000</td>\n",
       "      <td>NaN</td>\n",
       "      <td>16999.000000</td>\n",
       "      <td>NaN</td>\n",
       "      <td>NaN</td>\n",
       "      <td>8999.000000</td>\n",
       "      <td>779.000000</td>\n",
       "      <td>NaN</td>\n",
       "      <td>5997.000000</td>\n",
       "      <td>10197.0</td>\n",
       "      <td>...</td>\n",
       "      <td>NaN</td>\n",
       "      <td>NaN</td>\n",
       "      <td>3631.0</td>\n",
       "      <td>4849.000000</td>\n",
       "      <td>4719.000000</td>\n",
       "      <td>NaN</td>\n",
       "      <td>NaN</td>\n",
       "      <td>4199.0</td>\n",
       "      <td>NaN</td>\n",
       "      <td>NaN</td>\n",
       "    </tr>\n",
       "    <tr>\n",
       "      <th>4.2</th>\n",
       "      <td>8999.000000</td>\n",
       "      <td>2879.000000</td>\n",
       "      <td>7199.000000</td>\n",
       "      <td>2399.000000</td>\n",
       "      <td>11899.000000</td>\n",
       "      <td>5500.600000</td>\n",
       "      <td>6677.400000</td>\n",
       "      <td>NaN</td>\n",
       "      <td>3999.000000</td>\n",
       "      <td>5962.0</td>\n",
       "      <td>...</td>\n",
       "      <td>3344.000000</td>\n",
       "      <td>11999.0</td>\n",
       "      <td>NaN</td>\n",
       "      <td>3299.000000</td>\n",
       "      <td>7999.000000</td>\n",
       "      <td>NaN</td>\n",
       "      <td>2549.00</td>\n",
       "      <td>12599.0</td>\n",
       "      <td>NaN</td>\n",
       "      <td>NaN</td>\n",
       "    </tr>\n",
       "    <tr>\n",
       "      <th>4.3</th>\n",
       "      <td>NaN</td>\n",
       "      <td>NaN</td>\n",
       "      <td>1749.000000</td>\n",
       "      <td>7075.800000</td>\n",
       "      <td>4247.000000</td>\n",
       "      <td>12599.000000</td>\n",
       "      <td>8364.333333</td>\n",
       "      <td>NaN</td>\n",
       "      <td>12596.600000</td>\n",
       "      <td>5348.0</td>\n",
       "      <td>...</td>\n",
       "      <td>NaN</td>\n",
       "      <td>11199.0</td>\n",
       "      <td>3279.0</td>\n",
       "      <td>8999.000000</td>\n",
       "      <td>NaN</td>\n",
       "      <td>2299.000000</td>\n",
       "      <td>5599.00</td>\n",
       "      <td>NaN</td>\n",
       "      <td>14495.0</td>\n",
       "      <td>NaN</td>\n",
       "    </tr>\n",
       "    <tr>\n",
       "      <th>4.4</th>\n",
       "      <td>4799.000000</td>\n",
       "      <td>NaN</td>\n",
       "      <td>3652.666667</td>\n",
       "      <td>2594.000000</td>\n",
       "      <td>3499.000000</td>\n",
       "      <td>9066.500000</td>\n",
       "      <td>7999.000000</td>\n",
       "      <td>8017.500000</td>\n",
       "      <td>NaN</td>\n",
       "      <td>4797.0</td>\n",
       "      <td>...</td>\n",
       "      <td>5932.333333</td>\n",
       "      <td>2399.0</td>\n",
       "      <td>NaN</td>\n",
       "      <td>2799.000000</td>\n",
       "      <td>NaN</td>\n",
       "      <td>NaN</td>\n",
       "      <td>5249.00</td>\n",
       "      <td>NaN</td>\n",
       "      <td>NaN</td>\n",
       "      <td>NaN</td>\n",
       "    </tr>\n",
       "    <tr>\n",
       "      <th>4.5</th>\n",
       "      <td>5249.000000</td>\n",
       "      <td>10999.000000</td>\n",
       "      <td>10110.000000</td>\n",
       "      <td>1679.000000</td>\n",
       "      <td>6407.800000</td>\n",
       "      <td>5399.000000</td>\n",
       "      <td>6029.000000</td>\n",
       "      <td>3499.000000</td>\n",
       "      <td>NaN</td>\n",
       "      <td>13199.0</td>\n",
       "      <td>...</td>\n",
       "      <td>4799.000000</td>\n",
       "      <td>4799.0</td>\n",
       "      <td>NaN</td>\n",
       "      <td>NaN</td>\n",
       "      <td>5432.333333</td>\n",
       "      <td>NaN</td>\n",
       "      <td>3599.00</td>\n",
       "      <td>4199.0</td>\n",
       "      <td>NaN</td>\n",
       "      <td>NaN</td>\n",
       "    </tr>\n",
       "    <tr>\n",
       "      <th>4.6</th>\n",
       "      <td>NaN</td>\n",
       "      <td>2399.000000</td>\n",
       "      <td>2799.000000</td>\n",
       "      <td>NaN</td>\n",
       "      <td>NaN</td>\n",
       "      <td>12446.500000</td>\n",
       "      <td>12999.000000</td>\n",
       "      <td>2529.000000</td>\n",
       "      <td>18995.000000</td>\n",
       "      <td>2999.0</td>\n",
       "      <td>...</td>\n",
       "      <td>NaN</td>\n",
       "      <td>5499.0</td>\n",
       "      <td>7149.0</td>\n",
       "      <td>5999.000000</td>\n",
       "      <td>NaN</td>\n",
       "      <td>NaN</td>\n",
       "      <td>NaN</td>\n",
       "      <td>3599.0</td>\n",
       "      <td>NaN</td>\n",
       "      <td>NaN</td>\n",
       "    </tr>\n",
       "    <tr>\n",
       "      <th>4.7</th>\n",
       "      <td>5999.000000</td>\n",
       "      <td>NaN</td>\n",
       "      <td>NaN</td>\n",
       "      <td>9462.777778</td>\n",
       "      <td>NaN</td>\n",
       "      <td>8999.000000</td>\n",
       "      <td>6999.000000</td>\n",
       "      <td>3749.000000</td>\n",
       "      <td>2299.000000</td>\n",
       "      <td>7078.2</td>\n",
       "      <td>...</td>\n",
       "      <td>NaN</td>\n",
       "      <td>10999.0</td>\n",
       "      <td>7599.0</td>\n",
       "      <td>4199.000000</td>\n",
       "      <td>3699.500000</td>\n",
       "      <td>7665.666667</td>\n",
       "      <td>NaN</td>\n",
       "      <td>NaN</td>\n",
       "      <td>NaN</td>\n",
       "      <td>15995.0</td>\n",
       "    </tr>\n",
       "    <tr>\n",
       "      <th>4.8</th>\n",
       "      <td>2499.000000</td>\n",
       "      <td>NaN</td>\n",
       "      <td>NaN</td>\n",
       "      <td>NaN</td>\n",
       "      <td>9371.250000</td>\n",
       "      <td>8546.000000</td>\n",
       "      <td>19995.000000</td>\n",
       "      <td>6279.000000</td>\n",
       "      <td>5399.000000</td>\n",
       "      <td>1999.0</td>\n",
       "      <td>...</td>\n",
       "      <td>1499.000000</td>\n",
       "      <td>5759.0</td>\n",
       "      <td>3359.0</td>\n",
       "      <td>899.000000</td>\n",
       "      <td>1749.000000</td>\n",
       "      <td>9299.000000</td>\n",
       "      <td>NaN</td>\n",
       "      <td>NaN</td>\n",
       "      <td>NaN</td>\n",
       "      <td>NaN</td>\n",
       "    </tr>\n",
       "    <tr>\n",
       "      <th>4.9</th>\n",
       "      <td>1679.000000</td>\n",
       "      <td>2499.000000</td>\n",
       "      <td>4199.000000</td>\n",
       "      <td>4466.000000</td>\n",
       "      <td>NaN</td>\n",
       "      <td>2759.000000</td>\n",
       "      <td>NaN</td>\n",
       "      <td>4689.333333</td>\n",
       "      <td>6747.000000</td>\n",
       "      <td>1299.0</td>\n",
       "      <td>...</td>\n",
       "      <td>3999.000000</td>\n",
       "      <td>NaN</td>\n",
       "      <td>16999.0</td>\n",
       "      <td>2149.000000</td>\n",
       "      <td>NaN</td>\n",
       "      <td>NaN</td>\n",
       "      <td>3099.00</td>\n",
       "      <td>4299.0</td>\n",
       "      <td>NaN</td>\n",
       "      <td>NaN</td>\n",
       "    </tr>\n",
       "    <tr>\n",
       "      <th>5.0</th>\n",
       "      <td>NaN</td>\n",
       "      <td>10759.272727</td>\n",
       "      <td>10456.357143</td>\n",
       "      <td>8609.000000</td>\n",
       "      <td>9797.000000</td>\n",
       "      <td>7564.333333</td>\n",
       "      <td>8295.000000</td>\n",
       "      <td>NaN</td>\n",
       "      <td>2799.000000</td>\n",
       "      <td>9995.0</td>\n",
       "      <td>...</td>\n",
       "      <td>5999.000000</td>\n",
       "      <td>NaN</td>\n",
       "      <td>4559.0</td>\n",
       "      <td>NaN</td>\n",
       "      <td>4199.000000</td>\n",
       "      <td>2649.000000</td>\n",
       "      <td>NaN</td>\n",
       "      <td>2389.0</td>\n",
       "      <td>NaN</td>\n",
       "      <td>NaN</td>\n",
       "    </tr>\n",
       "  </tbody>\n",
       "</table>\n",
       "<p>32 rows × 102 columns</p>\n",
       "</div>"
      ],
      "text/plain": [
       "Reviews          0             1             2             3             4    \\\n",
       "Rating                                                                         \n",
       "0.0      9807.317391           NaN   1979.000000           NaN   4285.666667   \n",
       "1.0      1840.000000   8253.571429   3520.000000   2999.000000   4199.000000   \n",
       "1.5      2499.000000   2999.000000   3811.000000           NaN           NaN   \n",
       "2.0      4999.000000   4107.200000   5647.000000           NaN           NaN   \n",
       "2.2              NaN   6979.000000   3600.000000   2759.000000           NaN   \n",
       "2.4              NaN   1799.000000   4924.000000           NaN           NaN   \n",
       "2.5      5599.000000   3599.000000   4099.000000           NaN   3599.000000   \n",
       "2.6              NaN           NaN   3959.000000   1749.000000   5999.000000   \n",
       "2.7      4749.000000           NaN           NaN   9496.333333   2799.000000   \n",
       "2.8      4559.000000   3679.000000   3299.000000   2000.000000   1649.000000   \n",
       "2.9       600.000000   2724.000000   2739.000000           NaN   7299.000000   \n",
       "3.0      2999.000000  10316.200000   9076.666667   6599.000000  10796.333333   \n",
       "3.1              NaN           NaN           NaN           NaN   4799.000000   \n",
       "3.2              NaN  12999.000000   2549.000000   2339.000000           NaN   \n",
       "3.3              NaN   3999.000000   2799.000000  15995.000000   4499.000000   \n",
       "3.4              NaN           NaN   1799.000000   3999.000000           NaN   \n",
       "3.5      4499.000000   6399.000000   9495.000000   2799.000000  11937.400000   \n",
       "3.6      4799.000000  10799.000000           NaN           NaN   6679.000000   \n",
       "3.7      3359.000000   2499.000000   5965.666667  11756.600000   6499.000000   \n",
       "3.8      8932.333333   5899.000000   6999.000000   3485.666667   7023.666667   \n",
       "3.9              NaN   3396.500000           NaN   1979.000000   3959.000000   \n",
       "4.0      3799.000000  10486.636364   8397.000000  12645.666667  16495.000000   \n",
       "4.1      4559.000000           NaN  16999.000000           NaN           NaN   \n",
       "4.2      8999.000000   2879.000000   7199.000000   2399.000000  11899.000000   \n",
       "4.3              NaN           NaN   1749.000000   7075.800000   4247.000000   \n",
       "4.4      4799.000000           NaN   3652.666667   2594.000000   3499.000000   \n",
       "4.5      5249.000000  10999.000000  10110.000000   1679.000000   6407.800000   \n",
       "4.6              NaN   2399.000000   2799.000000           NaN           NaN   \n",
       "4.7      5999.000000           NaN           NaN   9462.777778           NaN   \n",
       "4.8      2499.000000           NaN           NaN           NaN   9371.250000   \n",
       "4.9      1679.000000   2499.000000   4199.000000   4466.000000           NaN   \n",
       "5.0              NaN  10759.272727  10456.357143   8609.000000   9797.000000   \n",
       "\n",
       "Reviews           5             6             7             8        9    \\\n",
       "Rating                                                                     \n",
       "0.0               NaN           NaN  23999.000000   1299.000000      NaN   \n",
       "1.0       3599.000000   9299.000000   1399.000000           NaN   5399.0   \n",
       "1.5       3999.000000   2149.000000           NaN           NaN      NaN   \n",
       "2.0               NaN   4799.000000           NaN           NaN   3999.0   \n",
       "2.2      11597.666667   3529.000000           NaN           NaN      NaN   \n",
       "2.4       6397.000000   5999.000000           NaN           NaN      NaN   \n",
       "2.5       3299.000000   3748.333333   2224.000000   5132.333333      NaN   \n",
       "2.6       3679.000000   6249.000000           NaN           NaN   4499.0   \n",
       "2.7               NaN           NaN           NaN           NaN   7199.0   \n",
       "2.8       5554.500000   4279.000000    599.000000   6285.666667      NaN   \n",
       "2.9       5999.000000           NaN   5299.000000   6647.000000   2699.0   \n",
       "3.0       7463.666667   6397.000000   8931.000000           NaN  21999.0   \n",
       "3.1       1499.000000           NaN  10197.400000   4997.000000   4799.0   \n",
       "3.2       7197.000000           NaN           NaN   3999.000000  12999.0   \n",
       "3.3       5479.000000   3999.000000           NaN   6999.000000      NaN   \n",
       "3.4       5429.666667   6599.000000   5397.000000   2149.000000   4999.0   \n",
       "3.5               NaN   6865.000000           NaN   2149.000000   7199.0   \n",
       "3.6       5464.333333           NaN           NaN           NaN      NaN   \n",
       "3.7               NaN           NaN           NaN   5999.000000    749.0   \n",
       "3.8       3797.000000   6995.000000           NaN   3719.000000   5999.0   \n",
       "3.9       3599.000000   7999.000000           NaN           NaN      NaN   \n",
       "4.0       6072.500000   7972.500000   3799.000000           NaN   6797.0   \n",
       "4.1       8999.000000    779.000000           NaN   5997.000000  10197.0   \n",
       "4.2       5500.600000   6677.400000           NaN   3999.000000   5962.0   \n",
       "4.3      12599.000000   8364.333333           NaN  12596.600000   5348.0   \n",
       "4.4       9066.500000   7999.000000   8017.500000           NaN   4797.0   \n",
       "4.5       5399.000000   6029.000000   3499.000000           NaN  13199.0   \n",
       "4.6      12446.500000  12999.000000   2529.000000  18995.000000   2999.0   \n",
       "4.7       8999.000000   6999.000000   3749.000000   2299.000000   7078.2   \n",
       "4.8       8546.000000  19995.000000   6279.000000   5399.000000   1999.0   \n",
       "4.9       2759.000000           NaN   4689.333333   6747.000000   1299.0   \n",
       "5.0       7564.333333   8295.000000           NaN   2799.000000   9995.0   \n",
       "\n",
       "Reviews   ...              92       93       94           95            96   \\\n",
       "Rating    ...                                                                 \n",
       "0.0       ...              NaN   5399.0   6279.0          NaN           NaN   \n",
       "1.0       ...              NaN   7999.0   8999.0  4224.000000   4999.000000   \n",
       "1.5       ...              NaN      NaN      NaN          NaN   4999.000000   \n",
       "2.0       ...              NaN      NaN   3799.0  5179.000000           NaN   \n",
       "2.2       ...      3999.000000      NaN      NaN          NaN  10299.000000   \n",
       "2.4       ...      2299.000000      NaN      NaN  1679.000000   1844.000000   \n",
       "2.5       ...     10999.000000      NaN      NaN  2799.000000           NaN   \n",
       "2.6       ...              NaN      NaN  17999.0          NaN           NaN   \n",
       "2.7       ...      4000.000000   1899.0      NaN          NaN           NaN   \n",
       "2.8       ...      2649.000000   7199.0   2999.0  5679.000000           NaN   \n",
       "2.9       ...              NaN      NaN   4799.0          NaN           NaN   \n",
       "3.0       ...              NaN      NaN   4999.0          NaN   3999.000000   \n",
       "3.1       ...              NaN      NaN      NaN  3999.000000   4999.000000   \n",
       "3.2       ...              NaN   3799.0   5099.0          NaN   7999.000000   \n",
       "3.3       ...      7999.000000      NaN      NaN  2999.000000   7999.000000   \n",
       "3.4       ...              NaN  10999.0      NaN          NaN           NaN   \n",
       "3.5       ...      2799.000000   7999.0      NaN  3165.666667   2499.000000   \n",
       "3.6       ...              NaN   4674.0      NaN          NaN           NaN   \n",
       "3.7       ...      2999.000000   5499.0      NaN  2499.000000   4999.000000   \n",
       "3.8       ...      5999.000000   5999.0      NaN  7799.000000   2499.000000   \n",
       "3.9       ...              NaN      NaN  19999.0  4999.000000           NaN   \n",
       "4.0       ...              NaN      NaN   2499.0          NaN           NaN   \n",
       "4.1       ...              NaN      NaN   3631.0  4849.000000   4719.000000   \n",
       "4.2       ...      3344.000000  11999.0      NaN  3299.000000   7999.000000   \n",
       "4.3       ...              NaN  11199.0   3279.0  8999.000000           NaN   \n",
       "4.4       ...      5932.333333   2399.0      NaN  2799.000000           NaN   \n",
       "4.5       ...      4799.000000   4799.0      NaN          NaN   5432.333333   \n",
       "4.6       ...              NaN   5499.0   7149.0  5999.000000           NaN   \n",
       "4.7       ...              NaN  10999.0   7599.0  4199.000000   3699.500000   \n",
       "4.8       ...      1499.000000   5759.0   3359.0   899.000000   1749.000000   \n",
       "4.9       ...      3999.000000      NaN  16999.0  2149.000000           NaN   \n",
       "5.0       ...      5999.000000      NaN   4559.0          NaN   4199.000000   \n",
       "\n",
       "Reviews          97       98       99       105      223  \n",
       "Rating                                                    \n",
       "0.0              NaN      NaN      NaN      NaN      NaN  \n",
       "1.0              NaN      NaN   7599.0      NaN      NaN  \n",
       "1.5              NaN  1799.00      NaN      NaN      NaN  \n",
       "2.0      2799.000000  2124.00      NaN      NaN      NaN  \n",
       "2.2      5999.000000  4999.00   5549.0      NaN      NaN  \n",
       "2.4              NaN  3359.00   2649.0      NaN      NaN  \n",
       "2.5              NaN  4999.00      NaN      NaN      NaN  \n",
       "2.6      4674.250000  4799.00      NaN      NaN      NaN  \n",
       "2.7      2499.000000  3499.00      NaN      NaN      NaN  \n",
       "2.8              NaN  9499.00      NaN      NaN      NaN  \n",
       "2.9      4559.000000  7699.00   2399.5      NaN      NaN  \n",
       "3.0              NaN      NaN      NaN      NaN      NaN  \n",
       "3.1              NaN  1679.00   5999.0      NaN      NaN  \n",
       "3.2      3359.000000  9999.00      NaN      NaN      NaN  \n",
       "3.3      3299.000000      NaN      NaN      NaN      NaN  \n",
       "3.4      2999.000000      NaN      NaN      NaN      NaN  \n",
       "3.5      2299.000000      NaN   1899.0      NaN      NaN  \n",
       "3.6              NaN  3599.00      NaN      NaN      NaN  \n",
       "3.7              NaN      NaN    999.0      NaN      NaN  \n",
       "3.8      6599.000000  5049.25      NaN      NaN      NaN  \n",
       "3.9              NaN  3499.00      NaN      NaN      NaN  \n",
       "4.0              NaN      NaN   4799.0      NaN      NaN  \n",
       "4.1              NaN      NaN   4199.0      NaN      NaN  \n",
       "4.2              NaN  2549.00  12599.0      NaN      NaN  \n",
       "4.3      2299.000000  5599.00      NaN  14495.0      NaN  \n",
       "4.4              NaN  5249.00      NaN      NaN      NaN  \n",
       "4.5              NaN  3599.00   4199.0      NaN      NaN  \n",
       "4.6              NaN      NaN   3599.0      NaN      NaN  \n",
       "4.7      7665.666667      NaN      NaN      NaN  15995.0  \n",
       "4.8      9299.000000      NaN      NaN      NaN      NaN  \n",
       "4.9              NaN  3099.00   4299.0      NaN      NaN  \n",
       "5.0      2649.000000      NaN   2389.0      NaN      NaN  \n",
       "\n",
       "[32 rows x 102 columns]"
      ]
     },
     "execution_count": 15,
     "metadata": {},
     "output_type": "execute_result"
    }
   ],
   "source": [
    "#compute the mean 'SalePrice' for each rating and review\n",
    "hier_sale_rate_rev = data[ 'SalePrice' ].groupby( [ data[ 'Rating' ] , data[ 'Reviews' ] ] ).mean()\n",
    "\n",
    "#call object, print data in readable hierarchy\n",
    "hier_sale_rate_rev.unstack()"
   ]
  },
  {
   "cell_type": "markdown",
   "metadata": {},
   "source": [
    "## the 75th percentile indicates 25% of shoes sold have greater than or equal to a total of 104 ratings"
   ]
  },
  {
   "cell_type": "code",
   "execution_count": 16,
   "metadata": {
    "scrolled": true
   },
   "outputs": [
    {
     "data": {
      "text/plain": [
       "count     32.00000\n",
       "mean     102.12500\n",
       "std       43.61174\n",
       "min       70.00000\n",
       "25%       83.00000\n",
       "50%       92.00000\n",
       "75%      104.75000\n",
       "max      302.00000\n",
       "Name: SalePrice, dtype: float64"
      ]
     },
     "execution_count": 16,
     "metadata": {},
     "output_type": "execute_result"
    }
   ],
   "source": [
    "sale_rating_grouped.describe()"
   ]
  },
  {
   "cell_type": "markdown",
   "metadata": {},
   "source": [
    "## 1,877 shoes have sold with both ratings and reviews"
   ]
  },
  {
   "cell_type": "code",
   "execution_count": 17,
   "metadata": {},
   "outputs": [
    {
     "data": {
      "text/plain": [
       "count     1877.000000\n",
       "mean      5503.923095\n",
       "std       3421.768789\n",
       "min        499.000000\n",
       "25%       2999.000000\n",
       "50%       4559.000000\n",
       "75%       6999.000000\n",
       "max      23999.000000\n",
       "Name: SalePrice, dtype: float64"
      ]
     },
     "execution_count": 17,
     "metadata": {},
     "output_type": "execute_result"
    }
   ],
   "source": [
    "hier_sale_rate_rev.describe()"
   ]
  },
  {
   "cell_type": "markdown",
   "metadata": {},
   "source": [
    "### binning is dividing a range of values into non-overlapping intervals and counting the number of values in each bin"
   ]
  },
  {
   "cell_type": "markdown",
   "metadata": {},
   "source": [
    "#### binning the data can help visual meanings in features become clearer"
   ]
  },
  {
   "cell_type": "code",
   "execution_count": 18,
   "metadata": {
    "scrolled": true
   },
   "outputs": [],
   "source": [
    "quant_data = data.select_dtypes( include = 'number' )\n",
    "\n",
    "#quant_data.head()"
   ]
  },
  {
   "cell_type": "code",
   "execution_count": 19,
   "metadata": {},
   "outputs": [],
   "source": [
    "#define a sorted array of unique ratings\n",
    "uni_rate = np.sort( data [ 'Rating' ].unique() )"
   ]
  },
  {
   "cell_type": "code",
   "execution_count": 20,
   "metadata": {},
   "outputs": [],
   "source": [
    "#define array of divided bins\n",
    "bin_rate = [ 1 , 3 , 5 ]"
   ]
  },
  {
   "cell_type": "code",
   "execution_count": 21,
   "metadata": {},
   "outputs": [],
   "source": [
    "#divide bins of 1 to 3, and 3 to 5\n",
    "binned_rates = pd.cut( uni_rate , bin_rate , right = False )"
   ]
  },
  {
   "cell_type": "code",
   "execution_count": 22,
   "metadata": {
    "scrolled": true
   },
   "outputs": [
    {
     "data": {
      "text/plain": [
       "[3, 5)    20\n",
       "[1, 3)    10\n",
       "dtype: int64"
      ]
     },
     "execution_count": 22,
     "metadata": {},
     "output_type": "execute_result"
    }
   ],
   "source": [
    "#print counts for the result\n",
    "pd.value_counts( binned_rates )"
   ]
  },
  {
   "cell_type": "markdown",
   "metadata": {},
   "source": [
    "### first plot shows most ratings fall between 2 and 5\n",
    "### second plot infers what values are and the total counts"
   ]
  },
  {
   "cell_type": "code",
   "execution_count": 23,
   "metadata": {},
   "outputs": [
    {
     "data": {
      "text/plain": [
       "(array([302.,   0.,   0.,   0.,   0.,   0., 101.,   0.,   0.,  70.,   0.,\n",
       "          0.,  86.,  78.,  90., 166., 179.,  74., 178., 145.,  75., 188.,\n",
       "        187.,  92., 212., 205., 115., 205., 215., 305.]),\n",
       " array([0.        , 0.16666667, 0.33333333, 0.5       , 0.66666667,\n",
       "        0.83333333, 1.        , 1.16666667, 1.33333333, 1.5       ,\n",
       "        1.66666667, 1.83333333, 2.        , 2.16666667, 2.33333333,\n",
       "        2.5       , 2.66666667, 2.83333333, 3.        , 3.16666667,\n",
       "        3.33333333, 3.5       , 3.66666667, 3.83333333, 4.        ,\n",
       "        4.16666667, 4.33333333, 4.5       , 4.66666667, 4.83333333,\n",
       "        5.        ]),\n",
       " <a list of 30 Patch objects>)"
      ]
     },
     "execution_count": 23,
     "metadata": {},
     "output_type": "execute_result"
    },
    {
     "data": {
      "image/png": "[encoded data removed]",
      "text/plain": [
       "<Figure size 1008x432 with 2 Axes>"
      ]
     },
     "metadata": {},
     "output_type": "display_data"
    }
   ],
   "source": [
    "#plot 'Rating' feature with varying bins\n",
    "plt.figure( figsize = ( 14 , 6 ) )\n",
    "plt.subplot( 1 , 2 , 1 )\n",
    "\n",
    "#save feature into new variable\n",
    "bin_ratings =  data[ 'Rating' ]\n",
    "\n",
    "#left plot\n",
    "plt.hist( bin_ratings , bins = 5 )\n",
    "\n",
    "plt.subplot( 1 , 2 , 2 )\n",
    "\n",
    "#right plot\n",
    "plt.hist( bin_ratings , bins = 30 )"
   ]
  },
  {
   "cell_type": "markdown",
   "metadata": {},
   "source": [
    "### reviews are qualitative with little to no variability between bins\n",
    "### for now let us put the 'Reviews' aside"
   ]
  },
  {
   "cell_type": "code",
   "execution_count": 25,
   "metadata": {},
   "outputs": [
    {
     "data": {
      "text/plain": [
       "<matplotlib.collections.PathCollection at 0x1835295a5c0>"
      ]
     },
     "execution_count": 25,
     "metadata": {},
     "output_type": "execute_result"
    },
    {
     "data": {
      "image/png": "[encoded data removed]",
      "text/plain": [
       "<Figure size 432x288 with 1 Axes>"
      ]
     },
     "metadata": {},
     "output_type": "display_data"
    }
   ],
   "source": [
    "x = 'Rating'\n",
    "y = 'SalePrice'\n",
    "\n",
    "plt.xlabel( x )\n",
    "plt.ylabel( y )\n",
    "plt.scatter( data[x] , data[y] , alpha = 0.2)"
   ]
  },
  {
   "cell_type": "markdown",
   "metadata": {},
   "source": [
    "### find the average SalePrice for each rating"
   ]
  },
  {
   "cell_type": "code",
   "execution_count": 31,
   "metadata": {
    "scrolled": true
   },
   "outputs": [
    {
     "data": {
      "text/plain": [
       "<matplotlib.axes._subplots.AxesSubplot at 0x1835361ff98>"
      ]
     },
     "execution_count": 31,
     "metadata": {},
     "output_type": "execute_result"
    },
    {
     "data": {
      "image/png": "[encoded data removed]",
      "text/plain": [
       "<Figure size 432x288 with 1 Axes>"
      ]
     },
     "metadata": {},
     "output_type": "display_data"
    }
   ],
   "source": [
    "mean = data.groupby( data[ 'Rating' ] )[ 'SalePrice' ].mean()\n",
    "\n",
    "mean.plot()"
   ]
  },
  {
   "cell_type": "code",
   "execution_count": 35,
   "metadata": {},
   "outputs": [
    {
     "data": {
      "text/plain": [
       "(array([ 0,  1,  2,  3,  4,  5,  6,  7,  8,  9, 10, 11, 12, 13, 14, 15, 16,\n",
       "        17, 18, 19, 20, 21, 22, 23, 24, 25, 26, 27, 28, 29, 30, 31]),\n",
       " <a list of 32 Text xticklabel objects>)"
      ]
     },
     "execution_count": 35,
     "metadata": {},
     "output_type": "execute_result"
    },
    {
     "data": {
      "image/png": "[encoded data removed]",
      "text/plain": [
       "<Figure size 432x288 with 1 Axes>"
      ]
     },
     "metadata": {},
     "output_type": "display_data"
    }
   ],
   "source": [
    "rating_plot = sns.boxplot( x = 'Rating' , y = 'SalePrice' , data = data )\n",
    "\n",
    "plt.xticks( rotation = 90 )"
   ]
  },
  {
   "cell_type": "markdown",
   "metadata": {},
   "source": [
    "### shoes with zero ratings have the highest average sale price"
   ]
  },
  {
   "cell_type": "markdown",
   "metadata": {},
   "source": [
    "## however, shoes with higher ratings are sold more"
   ]
  },
  {
   "cell_type": "code",
   "execution_count": null,
   "metadata": {},
   "outputs": [],
   "source": []
  },
  {
   "cell_type": "code",
   "execution_count": null,
   "metadata": {},
   "outputs": [],
   "source": []
  },
  {
   "cell_type": "code",
   "execution_count": null,
   "metadata": {},
   "outputs": [],
   "source": []
  }
 ],
 "metadata": {
  "kernelspec": {
   "display_name": "Python 3",
   "language": "python",
   "name": "python3"
  },
  "language_info": {
   "codemirror_mode": {
    "name": "ipython",
    "version": 3
   },
   "file_extension": ".py",
   "mimetype": "text/x-python",
   "name": "python",
   "nbconvert_exporter": "python",
   "pygments_lexer": "ipython3",
   "version": "3.6.5"
  }
 },
 "nbformat": 4,
 "nbformat_minor": 2
}
